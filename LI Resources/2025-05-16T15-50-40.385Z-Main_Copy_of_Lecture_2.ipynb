{
 "nbformat": 4,
 "nbformat_minor": 0,
 "metadata": {
  "colab": {
   "provenance": []
  },
  "kernelspec": {
   "name": "python3",
   "display_name": "Python 3"
  },
  "language_info": {
   "name": "python"
  }
 },
 "cells": [
  {
   "cell_type": "code",
   "execution_count": null,
   "metadata": {
    "id": "wENkrrKtLBqI"
   },
   "outputs": [],
   "source": []
  },
  {
   "cell_type": "code",
   "source": [],
   "metadata": {
    "id": "LnLzdhTYQ40d"
   },
   "execution_count": null,
   "outputs": []
  },
  {
   "cell_type": "markdown",
   "source": [
    "# **PART 1 : API Requests with requests module :GET and POST**\n",
    "\n",
    "\n",
    "\n",
    "\n",
    "\n"
   ],
   "metadata": {
    "id": "kA3j1yUQvehJ"
   }
  },
  {
   "cell_type": "markdown",
   "source": [],
   "metadata": {
    "id": "dgS1zPAlvoSs"
   }
  },
  {
   "cell_type": "markdown",
   "source": [
    "**Making GET  requests**"
   ],
   "metadata": {
    "id": "SNGAIvmdvo5U"
   }
  },
  {
   "cell_type": "code",
   "source": [
    "import requests\n",
    "# Ask a website for information\n",
    "response = requests.get(\"https://jsonplaceholder.typicode.com/posts/1\")\n",
    "\n",
    "print(response.status_code)\n",
    "print(response.json())\n",
    "print(response.text)"
   ],
   "metadata": {
    "id": "_Zu50MUYQ43D",
    "ExecuteTime": {
     "end_time": "2025-05-23T08:18:32.647921Z",
     "start_time": "2025-05-23T08:18:31.891365Z"
    }
   },
   "outputs": [
    {
     "name": "stdout",
     "output_type": "stream",
     "text": [
      "200\n",
      "{'userId': 1, 'id': 1, 'title': 'sunt aut facere repellat provident occaecati excepturi optio reprehenderit', 'body': 'quia et suscipit\\nsuscipit recusandae consequuntur expedita et cum\\nreprehenderit molestiae ut ut quas totam\\nnostrum rerum est autem sunt rem eveniet architecto'}\n",
      "{\n",
      "  \"userId\": 1,\n",
      "  \"id\": 1,\n",
      "  \"title\": \"sunt aut facere repellat provident occaecati excepturi optio reprehenderit\",\n",
      "  \"body\": \"quia et suscipit\\nsuscipit recusandae consequuntur expedita et cum\\nreprehenderit molestiae ut ut quas totam\\nnostrum rerum est autem sunt rem eveniet architecto\"\n",
      "}\n"
     ]
    }
   ],
   "execution_count": 1
  },
  {
   "cell_type": "code",
   "source": [],
   "metadata": {
    "id": "IKzv2RfYO1HH"
   },
   "execution_count": null,
   "outputs": []
  },
  {
   "cell_type": "code",
   "source": [
    "# Ask a website for information\n",
    "response = requests.get(\"https://jsonplaceholder.typicode.com/posts/1\")"
   ],
   "metadata": {
    "id": "sGU8RiDKO1KC"
   },
   "execution_count": null,
   "outputs": []
  },
  {
   "cell_type": "code",
   "source": [
    "print(response.status_code)\n"
   ],
   "metadata": {
    "id": "jXlLeAUaPeem"
   },
   "execution_count": null,
   "outputs": []
  },
  {
   "cell_type": "code",
   "source": [
    "print(response.json())"
   ],
   "metadata": {
    "id": "kJMxvjsaPESW"
   },
   "execution_count": null,
   "outputs": []
  },
  {
   "cell_type": "code",
   "source": [
    "print(response.text)\n"
   ],
   "metadata": {
    "id": "fVm-sUYcPV9m"
   },
   "execution_count": null,
   "outputs": []
  },
  {
   "cell_type": "code",
   "source": [],
   "metadata": {
    "id": "g7YVSP1yPEbr"
   },
   "execution_count": null,
   "outputs": []
  },
  {
   "cell_type": "markdown",
   "source": [
    "**Making POST requests**"
   ],
   "metadata": {
    "id": "cJni996sv1B-"
   }
  },
  {
   "cell_type": "code",
   "source": [
    "url = \"https://jsonplaceholder.typicode.com/posts\"\n",
    "# payload = {\n",
    "#     \"title\": \"Learn APIs\",\n",
    "#     \"body\": \"POST example with requests\",\n",
    "#     \"userId\": 1\n",
    "# }\n",
    "\n",
    "payload = [\n",
    "{\n",
    "  \"title\": \"Person 1\",\n",
    "  \"body\": \"POST example with requests\",\n",
    "  \"userId\": 1,\n",
    "\n",
    "  },\n",
    "  {\n",
    "   \"title\": \"Person 2\",\n",
    "  \"body\": \"POST example with requests\",\n",
    "  \"userId\": 2,\n",
    "\n",
    "  },\n",
    "  {\n",
    "  \"title\": \"Person 3\",\n",
    "  \"body\": \"POST example with requests\",\n",
    "  \"userId\": 3,\n",
    "}\n",
    "]\n",
    "response = requests.post(url, json=payload)\n",
    "print(\"Status Code:\", response.status_code)\n",
    "# print(\"Response JSON:\", response.json())\n",
    "print(\"Response JSON:\", response.text)\n"
   ],
   "metadata": {
    "colab": {
     "base_uri": "https://localhost:8080/"
    },
    "id": "fv6mZ8HpO1NG",
    "outputId": "2eb67b67-8b8b-4cc7-89fa-236ce8fc25ac"
   },
   "execution_count": null,
   "outputs": [
    {
     "output_type": "stream",
     "name": "stdout",
     "text": [
      "Status Code: 201\n",
      "Response JSON: {\n",
      "  \"0\": {\n",
      "    \"title\": \"Person 1\",\n",
      "    \"body\": \"POST example with requests\",\n",
      "    \"userId\": 1\n",
      "  },\n",
      "  \"1\": {\n",
      "    \"title\": \"Person 2\",\n",
      "    \"body\": \"POST example with requests\",\n",
      "    \"userId\": 2\n",
      "  },\n",
      "  \"2\": {\n",
      "    \"title\": \"Person 3\",\n",
      "    \"body\": \"POST example with requests\",\n",
      "    \"userId\": 3\n",
      "  },\n",
      "  \"id\": 101\n",
      "}\n"
     ]
    }
   ]
  },
  {
   "cell_type": "code",
   "source": [],
   "metadata": {
    "id": "SJK0RObxRd3W"
   },
   "execution_count": null,
   "outputs": []
  },
  {
   "cell_type": "code",
   "source": [],
   "metadata": {
    "id": "-QNKpSZaReDI"
   },
   "execution_count": null,
   "outputs": []
  },
  {
   "cell_type": "markdown",
   "source": [],
   "metadata": {
    "id": "9n_mH1SqSaho"
   }
  },
  {
   "cell_type": "code",
   "source": [],
   "metadata": {
    "id": "fT2D44TbS2ge"
   },
   "execution_count": null,
   "outputs": []
  },
  {
   "cell_type": "code",
   "source": [
    "parameter_userID = {'userId':10}\n",
    "print(\"parameterID: \", parameter_userID)\n"
   ],
   "metadata": {
    "colab": {
     "base_uri": "https://localhost:8080/"
    },
    "id": "DhJtb_BtS3pu",
    "outputId": "d814cad6-265b-429d-aa64-493b5e609527"
   },
   "execution_count": null,
   "outputs": [
    {
     "output_type": "stream",
     "name": "stdout",
     "text": [
      "parameterID:  {'userId': 10}\n"
     ]
    }
   ]
  },
  {
   "cell_type": "code",
   "source": [
    "data_test_a = requests.get(\"https://jsonplaceholder.typicode.com/posts,\",params=parameter_userID)"
   ],
   "metadata": {
    "id": "U6WorHRxT0BM"
   },
   "execution_count": null,
   "outputs": []
  },
  {
   "cell_type": "code",
   "source": [
    "print(data_test_a.status_code)"
   ],
   "metadata": {
    "id": "NQcxhTs_w868"
   },
   "execution_count": null,
   "outputs": []
  },
  {
   "cell_type": "code",
   "source": [
    "print(data_test_a.text)"
   ],
   "metadata": {
    "colab": {
     "base_uri": "https://localhost:8080/"
    },
    "id": "sNFVAcBnT0E-",
    "outputId": "c0b30d88-85b5-427f-d9d8-73b6f7ba86e7"
   },
   "execution_count": null,
   "outputs": [
    {
     "output_type": "stream",
     "name": "stdout",
     "text": [
      "{}\n"
     ]
    }
   ]
  },
  {
   "cell_type": "code",
   "source": [],
   "metadata": {
    "id": "sSSVwN43TFgQ"
   },
   "execution_count": null,
   "outputs": []
  },
  {
   "cell_type": "markdown",
   "source": [],
   "metadata": {
    "id": "aX1wjJkMxA_E"
   }
  },
  {
   "cell_type": "code",
   "source": [
    "\n",
    "response = requests.get(\"https://jsonplaceholder.typicode.com/posts\")\n",
    "# print(response.json())\n",
    "print(response.text)"
   ],
   "metadata": {
    "id": "rDgytBqBTFio"
   },
   "execution_count": null,
   "outputs": []
  },
  {
   "cell_type": "code",
   "source": [
    "params = {'id': 10}\n",
    "response = requests.get(\"https://jsonplaceholder.typicode.com/posts\",params=params)\n",
    "# print(response.json())\n",
    "print(response.text)"
   ],
   "metadata": {
    "colab": {
     "base_uri": "https://localhost:8080/"
    },
    "id": "V0tfOrbsSc5l",
    "outputId": "1404725d-940c-4afe-c638-54e069585237"
   },
   "execution_count": null,
   "outputs": [
    {
     "output_type": "stream",
     "name": "stdout",
     "text": [
      "[\n",
      "  {\n",
      "    \"userId\": 1,\n",
      "    \"id\": 10,\n",
      "    \"title\": \"optio molestias id quia eum\",\n",
      "    \"body\": \"quo et expedita modi cum officia vel magni\\ndoloribus qui repudiandae\\nvero nisi sit\\nquos veniam quod sed accusamus veritatis error\"\n",
      "  }\n",
      "]\n"
     ]
    }
   ]
  },
  {
   "cell_type": "markdown",
   "source": [],
   "metadata": {
    "id": "0O0Ipry5XfZL"
   }
  },
  {
   "cell_type": "markdown",
   "source": [],
   "metadata": {
    "id": "B483UGuMXfdc"
   }
  },
  {
   "cell_type": "code",
   "source": [],
   "metadata": {
    "id": "YUdspQZmXflk"
   },
   "execution_count": null,
   "outputs": []
  },
  {
   "cell_type": "code",
   "source": [
    "url = \"https://api.open-meteo.com/v1/forecast\"\n",
    "\n",
    "params = {\n",
    "    \"latitude\": 43.65107,\n",
    "    \"longitude\": -79.347015,\n",
    "    \"current_weather\": True\n",
    "}\n",
    "\n",
    "response = requests.get(url, params=params)\n"
   ],
   "metadata": {
    "id": "rPPyUS-cXfp5"
   },
   "execution_count": null,
   "outputs": []
  },
  {
   "cell_type": "markdown",
   "source": [],
   "metadata": {
    "id": "DD8gzQ9YX2iK"
   }
  },
  {
   "cell_type": "code",
   "source": [
    "print(response.text)"
   ],
   "metadata": {
    "id": "ghqvupNuX2oC"
   },
   "execution_count": null,
   "outputs": []
  },
  {
   "cell_type": "code",
   "source": [],
   "metadata": {
    "colab": {
     "base_uri": "https://localhost:8080/"
    },
    "id": "l6DQDJTkXfsV",
    "outputId": "b2a2638b-27a0-4497-ff2b-88c0374d8b95"
   },
   "execution_count": null,
   "outputs": [
    {
     "output_type": "stream",
     "name": "stdout",
     "text": [
      "{\"latitude\":43.641342,\"longitude\":-79.34631,\"generationtime_ms\":0.07784366607666016,\"utc_offset_seconds\":0,\"timezone\":\"GMT\",\"timezone_abbreviation\":\"GMT\",\"elevation\":76.0,\"current_weather_units\":{\"time\":\"iso8601\",\"interval\":\"seconds\",\"temperature\":\"°C\",\"windspeed\":\"km/h\",\"winddirection\":\"°\",\"is_day\":\"\",\"weathercode\":\"wmo code\"},\"current_weather\":{\"time\":\"2025-05-13T15:45\",\"interval\":900,\"temperature\":15.2,\"windspeed\":13.7,\"winddirection\":67,\"is_day\":1,\"weathercode\":3}}\n"
     ]
    }
   ]
  },
  {
   "cell_type": "markdown",
   "source": [
    "# ***real life api get and post request with weather forecasting***"
   ],
   "metadata": {
    "id": "O2G3HEOAxFCE"
   }
  },
  {
   "cell_type": "code",
   "source": [
    "import requests\n",
    "import json\n",
    "import csv\n",
    "\n",
    "# --- Step 1: API Call ---\n",
    "url = \"https://api.open-meteo.com/v1/forecast\"\n",
    "params = {\n",
    "    \"latitude\": 23.8103,     # Dhaka latitude\n",
    "    \"longitude\": 90.4125,    # Dhaka longitude\n",
    "    \"current_weather\": True\n",
    "}\n",
    "\n",
    "response = requests.get(url, params=params)\n",
    "\n",
    "# --- Step 2: Check and Extract Data ---\n",
    "if response.status_code == 200:\n",
    "    data = response.json()\n",
    "    weather = data[\"current_weather\"]\n",
    "\n",
    "    print(f\" Weather in Dhaka:\")\n",
    "    print(f\"Temperature: {weather['temperature']}°C\")\n",
    "    print(f\"Windspeed: {weather['windspeed']} km/h\")\n",
    "    print(f\"Time: {weather['time']}\")\n",
    "\n",
    "    # --- Step 3a: Save to JSON ---\n",
    "    with open(\"weather_dhaka.json\", \"w\") as json_file:\n",
    "        json.dump(weather, json_file, indent=4)\n",
    "        print(\" Saved to weather_dhaka.json\")\n",
    "\n",
    "    # --- Step 3b: Save to CSV ---\n",
    "    with open(\"weather_dhaka.csv\", \"w\", newline=\"\") as csv_file:\n",
    "        writer = csv.DictWriter(csv_file, fieldnames=weather.keys())\n",
    "        writer.writeheader()\n",
    "        writer.writerow(weather)\n",
    "        print(\" Saved to weather_dhaka.csv\")\n",
    "\n",
    "else:\n",
    "    print(\" Error fetching weather data:\", response.status_code)\n"
   ],
   "metadata": {
    "colab": {
     "base_uri": "https://localhost:8080/"
    },
    "id": "cGTqHnrUX5Uc",
    "outputId": "db6c1097-5f46-455a-b828-d8ecccdc2f57"
   },
   "execution_count": null,
   "outputs": [
    {
     "output_type": "stream",
     "name": "stdout",
     "text": [
      " Weather in Dhaka:\n",
      "Temperature: 28.1°C\n",
      "Windspeed: 3.4 km/h\n",
      "Time: 2025-05-13T16:00\n",
      " Saved to weather_dhaka.json\n",
      " Saved to weather_dhaka.csv\n"
     ]
    }
   ]
  },
  {
   "cell_type": "code",
   "source": [
    "import requests\n",
    "import json\n",
    "import csv\n",
    "\n",
    "# --- Step 1: API Call ---\n",
    "url = \"https://api.open-meteo.com/v1/forecast\"\n",
    "params = {\n",
    "    \"latitude\": 23.8103,     # Dhaka latitude\n",
    "    \"longitude\": 90.4125,    # Dhaka longitude\n",
    "    \"current_weather\": True\n",
    "}\n",
    "\n",
    "response = requests.get(url, params=params)\n",
    "\n",
    "# --- Step 2: Check and Extract Data ---\n",
    "if response.status_code == 200:\n",
    "    data = response.json()\n",
    "    weather = data[\"current_weather\"]\n",
    "\n",
    "    print(f\" Weather in Dhaka:\")\n",
    "    print(f\"Temperature: {weather['temperature']}°C\")\n",
    "    print(f\"Windspeed: {weather['windspeed']} km/h\")\n",
    "    print(f\"Time: {weather['time']}\")\n",
    "\n",
    "    # --- Step 3a: Save to JSON ---\n",
    "    with open(\"weather_dhaka.json\", \"w\") as json_file:\n",
    "        json.dump(weather, json_file, indent=4)\n",
    "        print(\" Saved to weather_dhaka.json\")\n",
    "\n",
    "else:\n",
    "    print(\" Error fetching weather data:\", response.status_code)\n"
   ],
   "metadata": {
    "colab": {
     "base_uri": "https://localhost:8080/"
    },
    "id": "cnuZcDMZX5Xk",
    "outputId": "86f6bbd7-fa57-4fdd-9780-f2bb678268f9"
   },
   "execution_count": null,
   "outputs": [
    {
     "output_type": "stream",
     "name": "stdout",
     "text": [
      " Weather in Dhaka:\n",
      "Temperature: 28.0°C\n",
      "Windspeed: 3.9 km/h\n",
      "Time: 2025-05-13T16:15\n",
      " Saved to weather_dhaka.json\n"
     ]
    }
   ]
  },
  {
   "cell_type": "code",
   "source": [],
   "metadata": {
    "id": "oMno7styecYH"
   },
   "execution_count": null,
   "outputs": []
  },
  {
   "cell_type": "code",
   "source": [],
   "metadata": {
    "id": "zNttLdU_ecbH"
   },
   "execution_count": null,
   "outputs": []
  },
  {
   "cell_type": "markdown",
   "source": [],
   "metadata": {
    "id": "gmtWs_oQeby3"
   }
  },
  {
   "cell_type": "markdown",
   "source": [
    "#**Part 2 :  Basics of web scraping**"
   ],
   "metadata": {
    "id": "3PBvbHJdScGP"
   }
  },
  {
   "cell_type": "code",
   "source": [
    "!pip install beautifulsoup4"
   ],
   "metadata": {
    "colab": {
     "base_uri": "https://localhost:8080/"
    },
    "id": "N1M-TezJefN_",
    "outputId": "ae566cd3-6def-4404-ea19-6d6008ae6b51"
   },
   "execution_count": null,
   "outputs": [
    {
     "output_type": "stream",
     "name": "stdout",
     "text": [
      "Requirement already satisfied: beautifulsoup4 in /usr/local/lib/python3.11/dist-packages (4.13.4)\n",
      "Requirement already satisfied: soupsieve>1.2 in /usr/local/lib/python3.11/dist-packages (from beautifulsoup4) (2.7)\n",
      "Requirement already satisfied: typing-extensions>=4.0.0 in /usr/local/lib/python3.11/dist-packages (from beautifulsoup4) (4.13.2)\n"
     ]
    }
   ]
  },
  {
   "cell_type": "code",
   "source": [
    "import requests"
   ],
   "metadata": {
    "id": "kw2uCPNVefQp"
   },
   "execution_count": null,
   "outputs": []
  },
  {
   "cell_type": "code",
   "source": [
    "from bs4 import BeautifulSoup"
   ],
   "metadata": {
    "id": "OTsSrim5efTO"
   },
   "execution_count": null,
   "outputs": []
  },
  {
   "cell_type": "code",
   "source": [],
   "metadata": {
    "colab": {
     "base_uri": "https://localhost:8080/"
    },
    "id": "jeXm9oBse4kC",
    "outputId": "30313a9b-694a-456e-fa41-ed3c9b126db8"
   },
   "execution_count": null,
   "outputs": [
    {
     "output_type": "stream",
     "name": "stdout",
     "text": [
      "Requirement already satisfied: beautifulsoup4 in /usr/local/lib/python3.11/dist-packages (4.13.4)\n",
      "Requirement already satisfied: soupsieve>1.2 in /usr/local/lib/python3.11/dist-packages (from beautifulsoup4) (2.7)\n",
      "Requirement already satisfied: typing-extensions>=4.0.0 in /usr/local/lib/python3.11/dist-packages (from beautifulsoup4) (4.13.2)\n"
     ]
    }
   ]
  },
  {
   "cell_type": "code",
   "source": [
    "from bs4 import BeautifulSoup"
   ],
   "metadata": {
    "id": "wj2dFJh_e8Lz"
   },
   "execution_count": null,
   "outputs": []
  },
  {
   "cell_type": "code",
   "source": [
    "import requests\n",
    "\n",
    "url = \"https://example.com\"\n",
    "response = requests.get(url)\n",
    "html_content = response.text  # Raw HTML of the page\n",
    "\n",
    "print(html_content[:1000])  # Show first 1000 characters\n"
   ],
   "metadata": {
    "colab": {
     "base_uri": "https://localhost:8080/"
    },
    "id": "eNZIjz-ifdht",
    "outputId": "38b2f7e9-d1d9-4bed-a524-97d264b49282"
   },
   "execution_count": null,
   "outputs": [
    {
     "output_type": "stream",
     "name": "stdout",
     "text": [
      "<!doctype html>\n",
      "<html>\n",
      "<head>\n",
      "    <title>Example Domain</title>\n",
      "\n",
      "    <meta charset=\"utf-8\" />\n",
      "    <meta http-equiv=\"Content-type\" content=\"text/html; charset=utf-8\" />\n",
      "    <meta name=\"viewport\" content=\"width=device-width, initial-scale=1\" />\n",
      "    <style type=\"text/css\">\n",
      "    body {\n",
      "        background-color: #f0f0f2;\n",
      "        margin: 0;\n",
      "        padding: 0;\n",
      "        font-family: -apple-system, system-ui, BlinkMacSystemFont, \"Segoe UI\", \"Open Sans\", \"Helvetica Neue\", Helvetica, Arial, sans-serif;\n",
      "        \n",
      "    }\n",
      "    div {\n",
      "        width: 600px;\n",
      "        margin: 5em auto;\n",
      "        padding: 2em;\n",
      "        background-color: #fdfdff;\n",
      "        border-radius: 0.5em;\n",
      "        box-shadow: 2px 3px 7px 2px rgba(0,0,0,0.02);\n",
      "    }\n",
      "    a:link, a:visited {\n",
      "        color: #38488f;\n",
      "        text-decoration: none;\n",
      "    }\n",
      "    @media (max-width: 700px) {\n",
      "        div {\n",
      "            margin: 0 auto;\n",
      "            width: auto;\n",
      "        }\n",
      "    }\n",
      "    </style>    \n",
      "</head>\n",
      "\n",
      "<body>\n",
      "<div>\n",
      "    <h1>Example Domain</h1>\n",
      "    <p>This domai\n"
     ]
    }
   ]
  },
  {
   "cell_type": "code",
   "source": [
    "from bs4 import BeautifulSoup\n",
    "\n",
    "soup = BeautifulSoup(html_content, \"html.parser\")\n"
   ],
   "metadata": {
    "id": "chMBpS-ef0M1"
   },
   "execution_count": null,
   "outputs": []
  },
  {
   "cell_type": "code",
   "source": [
    "print(soup)"
   ],
   "metadata": {
    "colab": {
     "base_uri": "https://localhost:8080/"
    },
    "id": "VQSoGzaefdmN",
    "outputId": "c14b8969-402a-4858-adf0-adc255e7281b"
   },
   "execution_count": null,
   "outputs": [
    {
     "output_type": "stream",
     "name": "stdout",
     "text": [
      "<!DOCTYPE html>\n",
      "\n",
      "<html>\n",
      "<head>\n",
      "<title>Example Domain</title>\n",
      "<meta charset=\"utf-8\"/>\n",
      "<meta content=\"text/html; charset=utf-8\" http-equiv=\"Content-type\"/>\n",
      "<meta content=\"width=device-width, initial-scale=1\" name=\"viewport\"/>\n",
      "<style type=\"text/css\">\n",
      "    body {\n",
      "        background-color: #f0f0f2;\n",
      "        margin: 0;\n",
      "        padding: 0;\n",
      "        font-family: -apple-system, system-ui, BlinkMacSystemFont, \"Segoe UI\", \"Open Sans\", \"Helvetica Neue\", Helvetica, Arial, sans-serif;\n",
      "        \n",
      "    }\n",
      "    div {\n",
      "        width: 600px;\n",
      "        margin: 5em auto;\n",
      "        padding: 2em;\n",
      "        background-color: #fdfdff;\n",
      "        border-radius: 0.5em;\n",
      "        box-shadow: 2px 3px 7px 2px rgba(0,0,0,0.02);\n",
      "    }\n",
      "    a:link, a:visited {\n",
      "        color: #38488f;\n",
      "        text-decoration: none;\n",
      "    }\n",
      "    @media (max-width: 700px) {\n",
      "        div {\n",
      "            margin: 0 auto;\n",
      "            width: auto;\n",
      "        }\n",
      "    }\n",
      "    </style>\n",
      "</head>\n",
      "<body>\n",
      "<div>\n",
      "<h1>Example Domain</h1>\n",
      "<p>This domain is for use in illustrative examples in documents. You may use this\n",
      "    domain in literature without prior coordination or asking for permission.</p>\n",
      "<p><a href=\"https://www.iana.org/domains/example\">More information...</a></p>\n",
      "</div>\n",
      "</body>\n",
      "</html>\n",
      "\n"
     ]
    }
   ]
  },
  {
   "cell_type": "code",
   "source": [
    "headings = soup.find_all(\"p\")  # or h2, h3, etc.\n",
    "\n",
    "for h in headings:\n",
    "    print(h.text.strip())\n"
   ],
   "metadata": {
    "colab": {
     "base_uri": "https://localhost:8080/"
    },
    "id": "aJ8r4sGlf87P",
    "outputId": "b412c7c1-18b5-4626-d27c-e3e44216ec84"
   },
   "execution_count": null,
   "outputs": [
    {
     "output_type": "stream",
     "name": "stdout",
     "text": [
      "This domain is for use in illustrative examples in documents. You may use this\n",
      "    domain in literature without prior coordination or asking for permission.\n",
      "More information...\n"
     ]
    }
   ]
  },
  {
   "cell_type": "code",
   "source": [
    "links = soup.find_all(\"a\")\n",
    "\n",
    "for link in links:\n",
    "    print(link.get(\"href\"))  # Get the URL\n"
   ],
   "metadata": {
    "colab": {
     "base_uri": "https://localhost:8080/"
    },
    "id": "JxDc3Ua5g6bS",
    "outputId": "00c8bef1-e3ad-4005-a67a-37b887f21d87"
   },
   "execution_count": null,
   "outputs": [
    {
     "output_type": "stream",
     "name": "stdout",
     "text": [
      "https://www.iana.org/domains/example\n"
     ]
    }
   ]
  },
  {
   "cell_type": "markdown",
   "source": [],
   "metadata": {
    "id": "061KKMhXhVbH"
   }
  },
  {
   "cell_type": "code",
   "source": [
    "import requests\n",
    "\n",
    "url = \"https://www.iana.org/help/example-domains\"\n",
    "response = requests.get(url)\n",
    "html_content = response.text  # Raw HTML of the page\n",
    "\n",
    "print(html_content[:1000])  # Show first 1000 characters\n"
   ],
   "metadata": {
    "colab": {
     "base_uri": "https://localhost:8080/"
    },
    "id": "JpyYPNhWhYU2",
    "outputId": "afe0a6b9-caf6-40ea-e208-bb20039b78bd"
   },
   "execution_count": null,
   "outputs": [
    {
     "output_type": "stream",
     "name": "stdout",
     "text": [
      "\n",
      "<!doctype html>\n",
      "<html>\n",
      "<head>\n",
      "\t<title>Example Domains</title>\n",
      "\n",
      "\t<meta charset=\"utf-8\" />\n",
      "\t<meta http-equiv=\"Content-type\" content=\"text/html; charset=utf-8\" />\n",
      "\t<meta name=\"viewport\" content=\"width=device-width, initial-scale=1\" />\n",
      "\t\n",
      "\t<link rel=\"stylesheet\" href=\"/_css/2025.01/iana_website.css\"/>\n",
      "\t<link rel=\"shortcut icon\" type=\"image/ico\" href=\"/_img/bookmark_icon.ico\"/>\n",
      "\n",
      "\t<script type=\"text/javascript\" src=\"/_js/jquery.js\"></script>\n",
      "\t<script type=\"text/javascript\" src=\"/_js/iana.js\"></script>\n",
      "\n",
      "\t\n",
      "</head>\n",
      "\n",
      "<body>\n",
      "\n",
      "\n",
      "<header>\n",
      "    <div id=\"header\">\n",
      "        <div id=\"logo\">\n",
      "            <a href=\"/\"><img src=\"/_img/2025.01/iana-logo-header.svg\" alt=\"Homepage\"/></a>\n",
      "        </div>\n",
      "        <div class=\"navigation\">\n",
      "            <ul>\n",
      "                <li><a href=\"/domains\">Domains</a></li>\n",
      "                <li><a href=\"/protocols\">Protocols</a></li>\n",
      "                <li><a href=\"/numbers\">Numbers</a></li>\n",
      "                <li><a href=\"/about\">About</a></li>\n",
      "            </ul>\n",
      "        </div>\n",
      "    </div>\n"
     ]
    }
   ]
  },
  {
   "cell_type": "code",
   "source": [
    "links = soup.find_all(\"p\")\n",
    "print(\"links: \", links)\n",
    "# for link in links:\n",
    "#     print(link.get(\"href\"))  # Get the URL\n"
   ],
   "metadata": {
    "colab": {
     "base_uri": "https://localhost:8080/"
    },
    "id": "W0NCyh2lhVke",
    "outputId": "9b6fc5c1-33de-4f46-85ad-27f30eabf8ac"
   },
   "execution_count": null,
   "outputs": [
    {
     "output_type": "stream",
     "name": "stdout",
     "text": [
      "links:  [<p>This domain is for use in illustrative examples in documents. You may use this\n",
      "    domain in literature without prior coordination or asking for permission.</p>, <p><a href=\"https://www.iana.org/domains/example\">More information...</a></p>]\n"
     ]
    }
   ]
  },
  {
   "cell_type": "markdown",
   "source": [],
   "metadata": {
    "id": "pf0CCkQUhuG_"
   }
  },
  {
   "cell_type": "code",
   "source": [],
   "metadata": {
    "id": "_lVuW5FjhuOx"
   },
   "execution_count": null,
   "outputs": []
  },
  {
   "cell_type": "code",
   "source": [
    "import requests\n",
    "from bs4 import BeautifulSoup\n",
    "\n",
    "# Step 1: Fetch the webpage\n",
    "url = \"https://www.python.org\"\n",
    "response = requests.get(url)\n",
    "soup = BeautifulSoup(response.text, \"html.parser\")\n",
    "\n",
    "# print(soup)\n",
    "\n",
    "# Step 2: Find the news section\n",
    "news = soup.find(\"div\", class_=\"small-widget jobs-widget last\")\n",
    "headlines = news.find_all(\"p\")\n",
    "print(headlines)\n",
    "# for item in headlines:\n",
    "#     print(item.text\n",
    "# # Step 3: Print the headlines\n",
    "# print(\" Latest Python News:\")\n",
    "# for item in headlines:\n",
    "#     title = item.find(\"p\").text.strip()\n",
    "#     date = item.find(\"time\").text.strip()\n",
    "#     print(f\"{date} — {title}\")\n"
   ],
   "metadata": {
    "colab": {
     "base_uri": "https://localhost:8080/"
    },
    "id": "K0jZ6ButhuUZ",
    "outputId": "2863bb65-ac0d-471d-adbe-930da2b3e87a"
   },
   "execution_count": null,
   "outputs": [
    {
     "output_type": "stream",
     "name": "stdout",
     "text": [
      "[<p>Looking for work or have a Python related position that you're trying to hire for? Our <strong>relaunched community-run job board</strong> is the place to go.</p>, <p><a href=\"//jobs.python.org\">jobs.python.org</a></p>]\n"
     ]
    }
   ]
  },
  {
   "cell_type": "markdown",
   "source": [],
   "metadata": {
    "id": "sjLGDPUdjb-J"
   }
  },
  {
   "cell_type": "markdown",
   "source": [],
   "metadata": {
    "id": "DHKOgQYajcAr"
   }
  },
  {
   "cell_type": "code",
   "source": [],
   "metadata": {
    "id": "00VC840hjcIJ"
   },
   "execution_count": null,
   "outputs": []
  },
  {
   "cell_type": "code",
   "source": [
    "import requests\n",
    "from bs4 import BeautifulSoup\n",
    "\n",
    "url = \"http://quotes.toscrape.com\"\n",
    "response = requests.get(url)\n",
    "soup = BeautifulSoup(response.text, \"html.parser\")\n",
    "print(soup)"
   ],
   "metadata": {
    "colab": {
     "base_uri": "https://localhost:8080/"
    },
    "id": "INS4-qlejcKo",
    "outputId": "b5899997-d430-46eb-f1b1-dae267065f85"
   },
   "execution_count": null,
   "outputs": [
    {
     "output_type": "stream",
     "name": "stdout",
     "text": [
      "<!DOCTYPE html>\n",
      "\n",
      "<html lang=\"en\">\n",
      "<head>\n",
      "<meta charset=\"utf-8\"/>\n",
      "<title>Quotes to Scrape</title>\n",
      "<link href=\"/static/bootstrap.min.css\" rel=\"stylesheet\"/>\n",
      "<link href=\"/static/main.css\" rel=\"stylesheet\"/>\n",
      "</head>\n",
      "<body>\n",
      "<div class=\"container\">\n",
      "<div class=\"row header-box\">\n",
      "<div class=\"col-md-8\">\n",
      "<h1>\n",
      "<a href=\"/\" style=\"text-decoration: none\">Quotes to Scrape</a>\n",
      "</h1>\n",
      "</div>\n",
      "<div class=\"col-md-4\">\n",
      "<p>\n",
      "<a href=\"/login\">Login</a>\n",
      "</p>\n",
      "</div>\n",
      "</div>\n",
      "<div class=\"row\">\n",
      "<div class=\"col-md-8\">\n",
      "<div class=\"quote\" itemscope=\"\" itemtype=\"http://schema.org/CreativeWork\">\n",
      "<span class=\"text\" itemprop=\"text\">“The world as we have created it is a process of our thinking. It cannot be changed without changing our thinking.”</span>\n",
      "<span>by <small class=\"author\" itemprop=\"author\">Albert Einstein</small>\n",
      "<a href=\"/author/Albert-Einstein\">(about)</a>\n",
      "</span>\n",
      "<div class=\"tags\">\n",
      "            Tags:\n",
      "            <meta class=\"keywords\" content=\"change,deep-thoughts,thinking,world\" itemprop=\"keywords\"/>\n",
      "<a class=\"tag\" href=\"/tag/change/page/1/\">change</a>\n",
      "<a class=\"tag\" href=\"/tag/deep-thoughts/page/1/\">deep-thoughts</a>\n",
      "<a class=\"tag\" href=\"/tag/thinking/page/1/\">thinking</a>\n",
      "<a class=\"tag\" href=\"/tag/world/page/1/\">world</a>\n",
      "</div>\n",
      "</div>\n",
      "<div class=\"quote\" itemscope=\"\" itemtype=\"http://schema.org/CreativeWork\">\n",
      "<span class=\"text\" itemprop=\"text\">“It is our choices, Harry, that show what we truly are, far more than our abilities.”</span>\n",
      "<span>by <small class=\"author\" itemprop=\"author\">J.K. Rowling</small>\n",
      "<a href=\"/author/J-K-Rowling\">(about)</a>\n",
      "</span>\n",
      "<div class=\"tags\">\n",
      "            Tags:\n",
      "            <meta class=\"keywords\" content=\"abilities,choices\" itemprop=\"keywords\"/>\n",
      "<a class=\"tag\" href=\"/tag/abilities/page/1/\">abilities</a>\n",
      "<a class=\"tag\" href=\"/tag/choices/page/1/\">choices</a>\n",
      "</div>\n",
      "</div>\n",
      "<div class=\"quote\" itemscope=\"\" itemtype=\"http://schema.org/CreativeWork\">\n",
      "<span class=\"text\" itemprop=\"text\">“There are only two ways to live your life. One is as though nothing is a miracle. The other is as though everything is a miracle.”</span>\n",
      "<span>by <small class=\"author\" itemprop=\"author\">Albert Einstein</small>\n",
      "<a href=\"/author/Albert-Einstein\">(about)</a>\n",
      "</span>\n",
      "<div class=\"tags\">\n",
      "            Tags:\n",
      "            <meta class=\"keywords\" content=\"inspirational,life,live,miracle,miracles\" itemprop=\"keywords\"/>\n",
      "<a class=\"tag\" href=\"/tag/inspirational/page/1/\">inspirational</a>\n",
      "<a class=\"tag\" href=\"/tag/life/page/1/\">life</a>\n",
      "<a class=\"tag\" href=\"/tag/live/page/1/\">live</a>\n",
      "<a class=\"tag\" href=\"/tag/miracle/page/1/\">miracle</a>\n",
      "<a class=\"tag\" href=\"/tag/miracles/page/1/\">miracles</a>\n",
      "</div>\n",
      "</div>\n",
      "<div class=\"quote\" itemscope=\"\" itemtype=\"http://schema.org/CreativeWork\">\n",
      "<span class=\"text\" itemprop=\"text\">“The person, be it gentleman or lady, who has not pleasure in a good novel, must be intolerably stupid.”</span>\n",
      "<span>by <small class=\"author\" itemprop=\"author\">Jane Austen</small>\n",
      "<a href=\"/author/Jane-Austen\">(about)</a>\n",
      "</span>\n",
      "<div class=\"tags\">\n",
      "            Tags:\n",
      "            <meta class=\"keywords\" content=\"aliteracy,books,classic,humor\" itemprop=\"keywords\"/>\n",
      "<a class=\"tag\" href=\"/tag/aliteracy/page/1/\">aliteracy</a>\n",
      "<a class=\"tag\" href=\"/tag/books/page/1/\">books</a>\n",
      "<a class=\"tag\" href=\"/tag/classic/page/1/\">classic</a>\n",
      "<a class=\"tag\" href=\"/tag/humor/page/1/\">humor</a>\n",
      "</div>\n",
      "</div>\n",
      "<div class=\"quote\" itemscope=\"\" itemtype=\"http://schema.org/CreativeWork\">\n",
      "<span class=\"text\" itemprop=\"text\">“Imperfection is beauty, madness is genius and it's better to be absolutely ridiculous than absolutely boring.”</span>\n",
      "<span>by <small class=\"author\" itemprop=\"author\">Marilyn Monroe</small>\n",
      "<a href=\"/author/Marilyn-Monroe\">(about)</a>\n",
      "</span>\n",
      "<div class=\"tags\">\n",
      "            Tags:\n",
      "            <meta class=\"keywords\" content=\"be-yourself,inspirational\" itemprop=\"keywords\"/>\n",
      "<a class=\"tag\" href=\"/tag/be-yourself/page/1/\">be-yourself</a>\n",
      "<a class=\"tag\" href=\"/tag/inspirational/page/1/\">inspirational</a>\n",
      "</div>\n",
      "</div>\n",
      "<div class=\"quote\" itemscope=\"\" itemtype=\"http://schema.org/CreativeWork\">\n",
      "<span class=\"text\" itemprop=\"text\">“Try not to become a man of success. Rather become a man of value.”</span>\n",
      "<span>by <small class=\"author\" itemprop=\"author\">Albert Einstein</small>\n",
      "<a href=\"/author/Albert-Einstein\">(about)</a>\n",
      "</span>\n",
      "<div class=\"tags\">\n",
      "            Tags:\n",
      "            <meta class=\"keywords\" content=\"adulthood,success,value\" itemprop=\"keywords\"/>\n",
      "<a class=\"tag\" href=\"/tag/adulthood/page/1/\">adulthood</a>\n",
      "<a class=\"tag\" href=\"/tag/success/page/1/\">success</a>\n",
      "<a class=\"tag\" href=\"/tag/value/page/1/\">value</a>\n",
      "</div>\n",
      "</div>\n",
      "<div class=\"quote\" itemscope=\"\" itemtype=\"http://schema.org/CreativeWork\">\n",
      "<span class=\"text\" itemprop=\"text\">“It is better to be hated for what you are than to be loved for what you are not.”</span>\n",
      "<span>by <small class=\"author\" itemprop=\"author\">André Gide</small>\n",
      "<a href=\"/author/Andre-Gide\">(about)</a>\n",
      "</span>\n",
      "<div class=\"tags\">\n",
      "            Tags:\n",
      "            <meta class=\"keywords\" content=\"life,love\" itemprop=\"keywords\"/>\n",
      "<a class=\"tag\" href=\"/tag/life/page/1/\">life</a>\n",
      "<a class=\"tag\" href=\"/tag/love/page/1/\">love</a>\n",
      "</div>\n",
      "</div>\n",
      "<div class=\"quote\" itemscope=\"\" itemtype=\"http://schema.org/CreativeWork\">\n",
      "<span class=\"text\" itemprop=\"text\">“I have not failed. I've just found 10,000 ways that won't work.”</span>\n",
      "<span>by <small class=\"author\" itemprop=\"author\">Thomas A. Edison</small>\n",
      "<a href=\"/author/Thomas-A-Edison\">(about)</a>\n",
      "</span>\n",
      "<div class=\"tags\">\n",
      "            Tags:\n",
      "            <meta class=\"keywords\" content=\"edison,failure,inspirational,paraphrased\" itemprop=\"keywords\"/>\n",
      "<a class=\"tag\" href=\"/tag/edison/page/1/\">edison</a>\n",
      "<a class=\"tag\" href=\"/tag/failure/page/1/\">failure</a>\n",
      "<a class=\"tag\" href=\"/tag/inspirational/page/1/\">inspirational</a>\n",
      "<a class=\"tag\" href=\"/tag/paraphrased/page/1/\">paraphrased</a>\n",
      "</div>\n",
      "</div>\n",
      "<div class=\"quote\" itemscope=\"\" itemtype=\"http://schema.org/CreativeWork\">\n",
      "<span class=\"text\" itemprop=\"text\">“A woman is like a tea bag; you never know how strong it is until it's in hot water.”</span>\n",
      "<span>by <small class=\"author\" itemprop=\"author\">Eleanor Roosevelt</small>\n",
      "<a href=\"/author/Eleanor-Roosevelt\">(about)</a>\n",
      "</span>\n",
      "<div class=\"tags\">\n",
      "            Tags:\n",
      "            <meta class=\"keywords\" content=\"misattributed-eleanor-roosevelt\" itemprop=\"keywords\"/>\n",
      "<a class=\"tag\" href=\"/tag/misattributed-eleanor-roosevelt/page/1/\">misattributed-eleanor-roosevelt</a>\n",
      "</div>\n",
      "</div>\n",
      "<div class=\"quote\" itemscope=\"\" itemtype=\"http://schema.org/CreativeWork\">\n",
      "<span class=\"text\" itemprop=\"text\">“A day without sunshine is like, you know, night.”</span>\n",
      "<span>by <small class=\"author\" itemprop=\"author\">Steve Martin</small>\n",
      "<a href=\"/author/Steve-Martin\">(about)</a>\n",
      "</span>\n",
      "<div class=\"tags\">\n",
      "            Tags:\n",
      "            <meta class=\"keywords\" content=\"humor,obvious,simile\" itemprop=\"keywords\"/>\n",
      "<a class=\"tag\" href=\"/tag/humor/page/1/\">humor</a>\n",
      "<a class=\"tag\" href=\"/tag/obvious/page/1/\">obvious</a>\n",
      "<a class=\"tag\" href=\"/tag/simile/page/1/\">simile</a>\n",
      "</div>\n",
      "</div>\n",
      "<nav>\n",
      "<ul class=\"pager\">\n",
      "<li class=\"next\">\n",
      "<a href=\"/page/2/\">Next <span aria-hidden=\"true\">→</span></a>\n",
      "</li>\n",
      "</ul>\n",
      "</nav>\n",
      "</div>\n",
      "<div class=\"col-md-4 tags-box\">\n",
      "<h2>Top Ten tags</h2>\n",
      "<span class=\"tag-item\">\n",
      "<a class=\"tag\" href=\"/tag/love/\" style=\"font-size: 28px\">love</a>\n",
      "</span>\n",
      "<span class=\"tag-item\">\n",
      "<a class=\"tag\" href=\"/tag/inspirational/\" style=\"font-size: 26px\">inspirational</a>\n",
      "</span>\n",
      "<span class=\"tag-item\">\n",
      "<a class=\"tag\" href=\"/tag/life/\" style=\"font-size: 26px\">life</a>\n",
      "</span>\n",
      "<span class=\"tag-item\">\n",
      "<a class=\"tag\" href=\"/tag/humor/\" style=\"font-size: 24px\">humor</a>\n",
      "</span>\n",
      "<span class=\"tag-item\">\n",
      "<a class=\"tag\" href=\"/tag/books/\" style=\"font-size: 22px\">books</a>\n",
      "</span>\n",
      "<span class=\"tag-item\">\n",
      "<a class=\"tag\" href=\"/tag/reading/\" style=\"font-size: 14px\">reading</a>\n",
      "</span>\n",
      "<span class=\"tag-item\">\n",
      "<a class=\"tag\" href=\"/tag/friendship/\" style=\"font-size: 10px\">friendship</a>\n",
      "</span>\n",
      "<span class=\"tag-item\">\n",
      "<a class=\"tag\" href=\"/tag/friends/\" style=\"font-size: 8px\">friends</a>\n",
      "</span>\n",
      "<span class=\"tag-item\">\n",
      "<a class=\"tag\" href=\"/tag/truth/\" style=\"font-size: 8px\">truth</a>\n",
      "</span>\n",
      "<span class=\"tag-item\">\n",
      "<a class=\"tag\" href=\"/tag/simile/\" style=\"font-size: 6px\">simile</a>\n",
      "</span>\n",
      "</div>\n",
      "</div>\n",
      "</div>\n",
      "<footer class=\"footer\">\n",
      "<div class=\"container\">\n",
      "<p class=\"text-muted\">\n",
      "                Quotes by: <a href=\"https://www.goodreads.com/quotes\">GoodReads.com</a>\n",
      "</p>\n",
      "<p class=\"copyright\">\n",
      "                Made with <span class=\"zyte\">❤</span> by <a class=\"zyte\" href=\"https://www.zyte.com\">Zyte</a>\n",
      "</p>\n",
      "</div>\n",
      "</footer>\n",
      "</body>\n",
      "</html>\n"
     ]
    }
   ]
  },
  {
   "cell_type": "code",
   "source": [],
   "metadata": {
    "id": "nNh1AMZVjcNB"
   },
   "execution_count": null,
   "outputs": []
  },
  {
   "cell_type": "code",
   "source": [
    "quotes = soup.find_all(\"div\", class_=\"quote\")\n",
    "\n",
    "for quote in quotes:\n",
    "    text = quote.find(\"span\", class_=\"text\").text.strip()\n",
    "    author = quote.find(\"small\", class_=\"author\").text.strip()\n",
    "    print(f\"{text} — {author}\")\n"
   ],
   "metadata": {
    "colab": {
     "base_uri": "https://localhost:8080/"
    },
    "id": "OgGOEkdxjcPa",
    "outputId": "c003978b-d530-4932-f49f-caac7eb0ca87"
   },
   "execution_count": null,
   "outputs": [
    {
     "output_type": "stream",
     "name": "stdout",
     "text": [
      "“The world as we have created it is a process of our thinking. It cannot be changed without changing our thinking.” — Albert Einstein\n",
      "“It is our choices, Harry, that show what we truly are, far more than our abilities.” — J.K. Rowling\n",
      "“There are only two ways to live your life. One is as though nothing is a miracle. The other is as though everything is a miracle.” — Albert Einstein\n",
      "“The person, be it gentleman or lady, who has not pleasure in a good novel, must be intolerably stupid.” — Jane Austen\n",
      "“Imperfection is beauty, madness is genius and it's better to be absolutely ridiculous than absolutely boring.” — Marilyn Monroe\n",
      "“Try not to become a man of success. Rather become a man of value.” — Albert Einstein\n",
      "“It is better to be hated for what you are than to be loved for what you are not.” — André Gide\n",
      "“I have not failed. I've just found 10,000 ways that won't work.” — Thomas A. Edison\n",
      "“A woman is like a tea bag; you never know how strong it is until it's in hot water.” — Eleanor Roosevelt\n",
      "“A day without sunshine is like, you know, night.” — Steve Martin\n"
     ]
    }
   ]
  },
  {
   "cell_type": "code",
   "source": [],
   "metadata": {
    "id": "Oq232nZIjcRx"
   },
   "execution_count": null,
   "outputs": []
  },
  {
   "cell_type": "code",
   "source": [],
   "metadata": {
    "id": "LsQel5smjcUI"
   },
   "execution_count": null,
   "outputs": []
  },
  {
   "cell_type": "markdown",
   "source": [],
   "metadata": {
    "id": "TfNGgkNxjg5g"
   }
  },
  {
   "cell_type": "code",
   "source": [],
   "metadata": {
    "id": "xjjDsBzHjhD7"
   },
   "execution_count": null,
   "outputs": []
  },
  {
   "cell_type": "code",
   "source": [
    "import requests\n",
    "from bs4 import BeautifulSoup\n",
    "import csv\n",
    "import json\n",
    "\n",
    "# Step 1: Fetch the page\n",
    "url = \"http://quotes.toscrape.com\"\n",
    "response = requests.get(url)\n",
    "soup = BeautifulSoup(response.text, \"html.parser\")\n",
    "\n",
    "# Step 2: Extract quotes and authors\n",
    "quotes_data = []\n",
    "\n",
    "quotes = soup.find_all(\"div\", class_=\"quote\")\n",
    "for quote in quotes:\n",
    "    text = quote.find(\"span\", class_=\"text\").text.strip()\n",
    "    author = quote.find(\"small\", class_=\"author\").text.strip()\n",
    "    quotes_data.append({\"quote\": text, \"author\": author})\n",
    "\n",
    "\n",
    "\n",
    "# Step 3: Save to JSON\n",
    "with open(\"quotes.json\", \"w\", encoding=\"utf-8\") as json_file:\n",
    "    json.dump(quotes_data, json_file, indent=4, ensure_ascii=False)\n",
    "    print(\" Saved to quotes.json\")\n"
   ],
   "metadata": {
    "colab": {
     "base_uri": "https://localhost:8080/"
    },
    "id": "aHvxO0dYjhTQ",
    "outputId": "d924aa19-490d-458d-e3ec-f89b61d5b4db"
   },
   "execution_count": null,
   "outputs": [
    {
     "output_type": "stream",
     "name": "stdout",
     "text": [
      " Saved to quotes.json\n"
     ]
    }
   ]
  },
  {
   "cell_type": "code",
   "source": [],
   "metadata": {
    "id": "MBBLorkMjh7X"
   },
   "execution_count": null,
   "outputs": []
  },
  {
   "cell_type": "markdown",
   "source": [],
   "metadata": {
    "id": "2j9WIb--jiuI"
   }
  },
  {
   "cell_type": "code",
   "source": [],
   "metadata": {
    "id": "ivpTzUpKji25"
   },
   "execution_count": null,
   "outputs": []
  },
  {
   "cell_type": "code",
   "source": [],
   "metadata": {
    "id": "6bWmbi-Kjh-D"
   },
   "execution_count": null,
   "outputs": []
  },
  {
   "cell_type": "markdown",
   "source": [],
   "metadata": {
    "id": "2i8YayHjloxA"
   }
  },
  {
   "cell_type": "markdown",
   "source": [],
   "metadata": {
    "id": "MmChE_tblozk"
   }
  },
  {
   "cell_type": "markdown",
   "source": [
    "#**PART 3 :  Introduction to data cleaning with CSV JSON & Pandas**"
   ],
   "metadata": {
    "id": "683HCt1mlo2M"
   }
  },
  {
   "cell_type": "code",
   "source": [],
   "metadata": {
    "id": "_g3C9HKWlsra"
   },
   "execution_count": null,
   "outputs": []
  },
  {
   "cell_type": "code",
   "source": [
    "# data_1a =  {\"Name\": \"John\", \"Age\": 25, \"Email\": \"john@example.com\", \"Salary\": 50000}\n",
    "# # print(type(data_1a))\n",
    "# print(print(data_1a[\"Age\"]))"
   ],
   "metadata": {
    "colab": {
     "base_uri": "https://localhost:8080/"
    },
    "id": "kDY-k_PEmTS1",
    "outputId": "8329a17a-3b18-4c2b-b370-dada2b30a512"
   },
   "execution_count": null,
   "outputs": [
    {
     "output_type": "stream",
     "name": "stdout",
     "text": [
      "25\n",
      "None\n"
     ]
    }
   ]
  },
  {
   "cell_type": "code",
   "source": [
    "import pandas as pd\n",
    "\n",
    "# Step 1: Create the data as a list of dictionaries\n",
    "data = [\n",
    "    {\"Name\": \"John\", \"Age\": 25, \"Email\": \"john@example.com\", \"Salary\": 50000},\n",
    "    {\"Name\": None, \"Age\": 29, \"Email\": \"missing\", \"Salary\": 55000},\n",
    "    {\"Name\": \"Linda\", \"Age\": None, \"Email\": \"linda@example.com\", \"Salary\": None},\n",
    "    {\"Name\": \"Mike\", \"Age\": 22, \"Email\": \"mike@example.com\", \"Salary\": 48000}\n",
    "]\n",
    "\n",
    "# print((data[2]))\n",
    "\n",
    "\n",
    "# Step 2: Create a DataFrame\n",
    "df = pd.DataFrame(data)\n",
    "print(df)\n",
    "\n",
    "# Step 3: Save to CSV\n",
    "df.to_csv(\"people_data.csv\", index=False)\n",
    "print(\" CSV saved as 'people_data.csv'\")\n"
   ],
   "metadata": {
    "colab": {
     "base_uri": "https://localhost:8080/"
    },
    "id": "KPtVKrs9lstr",
    "outputId": "eabc76d1-d152-4f70-dcdd-9a83b0923201"
   },
   "execution_count": null,
   "outputs": [
    {
     "output_type": "stream",
     "name": "stdout",
     "text": [
      "    Name   Age              Email   Salary\n",
      "0   John  25.0   john@example.com  50000.0\n",
      "1   None  29.0            missing  55000.0\n",
      "2  Linda   NaN  linda@example.com      NaN\n",
      "3   Mike  22.0   mike@example.com  48000.0\n",
      " CSV saved as 'people_data.csv'\n"
     ]
    }
   ]
  },
  {
   "cell_type": "code",
   "source": [],
   "metadata": {
    "id": "Zot0xjTzlswf"
   },
   "execution_count": null,
   "outputs": []
  },
  {
   "cell_type": "markdown",
   "source": [],
   "metadata": {
    "id": "c_eJaTz0nmIl"
   }
  },
  {
   "cell_type": "code",
   "source": [
    "import pandas as pd\n",
    "\n",
    "# Load your dataset\n",
    "df = pd.read_csv(\"people_data.csv\")\n",
    "print(df)"
   ],
   "metadata": {
    "colab": {
     "base_uri": "https://localhost:8080/"
    },
    "id": "rx3_K09bnmO3",
    "outputId": "7491f41e-ce68-46b7-fae4-a958725576f7"
   },
   "execution_count": null,
   "outputs": [
    {
     "output_type": "stream",
     "name": "stdout",
     "text": [
      "    Name   Age              Email   Salary\n",
      "0   John  25.0   john@example.com  50000.0\n",
      "1    NaN  29.0            missing  55000.0\n",
      "2  Linda   NaN  linda@example.com      NaN\n",
      "3   Mike  22.0   mike@example.com  48000.0\n"
     ]
    }
   ]
  },
  {
   "cell_type": "code",
   "source": [
    "# print(df.isnull())\n",
    "print(df.isnull().sum())\n"
   ],
   "metadata": {
    "colab": {
     "base_uri": "https://localhost:8080/"
    },
    "id": "EwCGxa0Hnsff",
    "outputId": "436c566b-f845-4c35-9628-8ab2544ca753"
   },
   "execution_count": null,
   "outputs": [
    {
     "output_type": "stream",
     "name": "stdout",
     "text": [
      "Name      1\n",
      "Age       1\n",
      "Email     0\n",
      "Salary    1\n",
      "dtype: int64\n"
     ]
    }
   ]
  },
  {
   "cell_type": "code",
   "source": [
    "df.dropna(inplace=True)           # Remove rows with any missing value\n",
    "df.fillna(0, inplace=True)        # Replace NaNs with 0\n"
   ],
   "metadata": {
    "id": "O4MkzUjboDvw"
   },
   "execution_count": null,
   "outputs": []
  },
  {
   "cell_type": "code",
   "source": [
    "print(df)"
   ],
   "metadata": {
    "colab": {
     "base_uri": "https://localhost:8080/"
    },
    "id": "MnfnceYeoEpD",
    "outputId": "1b67787a-ae79-4862-ad75-bc4eb70517ac"
   },
   "execution_count": null,
   "outputs": [
    {
     "output_type": "stream",
     "name": "stdout",
     "text": [
      "   Name   Age             Email   Salary\n",
      "0  John  25.0  john@example.com  50000.0\n",
      "3  Mike  22.0  mike@example.com  48000.0\n"
     ]
    }
   ]
  },
  {
   "cell_type": "code",
   "source": [
    "df.drop_duplicates(inplace=True)\n"
   ],
   "metadata": {
    "id": "dTrHkvKToQyk"
   },
   "execution_count": null,
   "outputs": []
  },
  {
   "cell_type": "code",
   "source": [
    "print(df)"
   ],
   "metadata": {
    "id": "fWX6cIwyoSQL",
    "outputId": "6ab7b7c4-5819-46cc-f711-74a65ac1671d",
    "colab": {
     "base_uri": "https://localhost:8080/"
    }
   },
   "execution_count": null,
   "outputs": [
    {
     "output_type": "stream",
     "name": "stdout",
     "text": [
      "   Name   Age             Email   Salary\n",
      "0  John  25.0  john@example.com  50000.0\n",
      "3  Mike  22.0  mike@example.com  48000.0\n"
     ]
    }
   ]
  },
  {
   "cell_type": "markdown",
   "source": [],
   "metadata": {
    "id": "4P5p3HTQjiHW"
   }
  }
 ]
}
