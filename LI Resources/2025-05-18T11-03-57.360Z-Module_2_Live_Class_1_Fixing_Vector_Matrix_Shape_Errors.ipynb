{
 "cells": [
  {
   "cell_type": "markdown",
   "id": "30e642d5",
   "metadata": {},
   "source": [
    "# 🛠️ Fixing Vector and Matrix Shape Mismatches"
   ]
  },
  {
   "cell_type": "markdown",
   "id": "eb396820",
   "metadata": {},
   "source": [
    "\n",
    "This notebook explains what to do when vector or matrix operations fail due to shape mismatches.\n",
    "You'll learn:\n",
    "- Why these errors happen\n",
    "- How to fix mismatched shapes\n",
    "- Padding, truncating, reshaping, and broadcasting\n",
    "\n",
    "Includes Bengali analogies to help you understand better.\n"
   ]
  },
  {
   "cell_type": "markdown",
   "id": "04c07184",
   "metadata": {},
   "source": [
    "## 🔧 1. Vector Addition or Multiplication – Length Mismatch"
   ]
  },
  {
   "cell_type": "code",
   "execution_count": 11,
   "id": "eedc9d44",
   "metadata": {},
   "outputs": [
    {
     "ename": "ValueError",
     "evalue": "operands could not be broadcast together with shapes (3,) (2,) ",
     "output_type": "error",
     "traceback": [
      "\u001b[31m---------------------------------------------------------------------------\u001b[39m",
      "\u001b[31mValueError\u001b[39m                                Traceback (most recent call last)",
      "\u001b[36mCell\u001b[39m\u001b[36m \u001b[39m\u001b[32mIn[11]\u001b[39m\u001b[32m, line 4\u001b[39m\n\u001b[32m      2\u001b[39m a = np.array([\u001b[32m1\u001b[39m, \u001b[32m2\u001b[39m, \u001b[32m3\u001b[39m])\n\u001b[32m      3\u001b[39m b = np.array([\u001b[32m4\u001b[39m, \u001b[32m5\u001b[39m])\n\u001b[32m----> \u001b[39m\u001b[32m4\u001b[39m \u001b[43ma\u001b[49m\u001b[43m \u001b[49m\u001b[43m+\u001b[49m\u001b[43m \u001b[49m\u001b[43mb\u001b[49m  \u001b[38;5;66;03m# ValueError\u001b[39;00m\n",
      "\u001b[31mValueError\u001b[39m: operands could not be broadcast together with shapes (3,) (2,) "
     ]
    }
   ],
   "source": [
    "import numpy as np\n",
    "a = np.array([1, 2, 3])\n",
    "b = np.array([4, 5])\n",
    "a + b  # ValueError"
   ]
  },
  {
   "cell_type": "markdown",
   "id": "f2dc589b",
   "metadata": {},
   "source": [
    "### ✅ Fix Option(s):"
   ]
  },
  {
   "cell_type": "code",
   "execution_count": 12,
   "id": "df138bdc",
   "metadata": {},
   "outputs": [
    {
     "name": "stdout",
     "output_type": "stream",
     "text": [
      "[5 7 3]\n"
     ]
    }
   ],
   "source": [
    "b_padded = np.pad(b, (0, len(a) - len(b)), constant_values=0)\n",
    "print(a + b_padded)"
   ]
  },
  {
   "cell_type": "code",
   "execution_count": 13,
   "id": "8903e88f",
   "metadata": {},
   "outputs": [
    {
     "name": "stdout",
     "output_type": "stream",
     "text": [
      "[5 7]\n"
     ]
    }
   ],
   "source": [
    "min_len = min(len(a), len(b))\n",
    "print(a[:min_len] + b[:min_len])"
   ]
  },
  {
   "cell_type": "markdown",
   "id": "eee27206",
   "metadata": {},
   "source": [
    "### Bengali Analogy:\n",
    "তুমি যদি ৩টা সংখ্যা নাও আর আমি ২টা দিই, তাহলে একটাকে শূন্য ধরা বা কেটে ফেলা দরকার তুলনা করতে।"
   ]
  },
  {
   "cell_type": "markdown",
   "id": "5d9dfd2c",
   "metadata": {},
   "source": [
    "## 🔧 2. Matrix Addition or Element-wise Multiplication – Shape Mismatch"
   ]
  },
  {
   "cell_type": "code",
   "execution_count": 14,
   "id": "e467aa38",
   "metadata": {},
   "outputs": [
    {
     "ename": "ValueError",
     "evalue": "operands could not be broadcast together with shapes (2,2) (1,3) ",
     "output_type": "error",
     "traceback": [
      "\u001b[31m---------------------------------------------------------------------------\u001b[39m",
      "\u001b[31mValueError\u001b[39m                                Traceback (most recent call last)",
      "\u001b[36mCell\u001b[39m\u001b[36m \u001b[39m\u001b[32mIn[14]\u001b[39m\u001b[32m, line 3\u001b[39m\n\u001b[32m      1\u001b[39m A = np.array([[\u001b[32m1\u001b[39m, \u001b[32m2\u001b[39m], [\u001b[32m3\u001b[39m, \u001b[32m4\u001b[39m]])\n\u001b[32m      2\u001b[39m B = np.array([[\u001b[32m5\u001b[39m, \u001b[32m6\u001b[39m, \u001b[32m7\u001b[39m]])\n\u001b[32m----> \u001b[39m\u001b[32m3\u001b[39m \u001b[43mA\u001b[49m\u001b[43m \u001b[49m\u001b[43m+\u001b[49m\u001b[43m \u001b[49m\u001b[43mB\u001b[49m  \u001b[38;5;66;03m# ValueError\u001b[39;00m\n",
      "\u001b[31mValueError\u001b[39m: operands could not be broadcast together with shapes (2,2) (1,3) "
     ]
    }
   ],
   "source": [
    "A = np.array([[1, 2], [3, 4]])\n",
    "B = np.array([[5, 6, 7]])\n",
    "A + B  # ValueError"
   ]
  },
  {
   "cell_type": "markdown",
   "id": "906f6ec3",
   "metadata": {},
   "source": [
    "### ✅ Fix Option(s):"
   ]
  },
  {
   "cell_type": "code",
   "execution_count": 15,
   "id": "31c75ad9",
   "metadata": {},
   "outputs": [
    {
     "name": "stdout",
     "output_type": "stream",
     "text": [
      "[[6 8 7]\n",
      " [3 4 0]]\n"
     ]
    }
   ],
   "source": [
    "def pad_matrix(mat, target_shape, pad_value=0):\n",
    "    padded = np.full(target_shape, pad_value)\n",
    "    padded[:mat.shape[0], :mat.shape[1]] = mat\n",
    "    return padded\n",
    "\n",
    "A_fixed = pad_matrix(A, (2, 3))\n",
    "B_fixed = pad_matrix(B, (2, 3))\n",
    "print(A_fixed + B_fixed)"
   ]
  },
  {
   "cell_type": "markdown",
   "id": "bfb635c0",
   "metadata": {},
   "source": [
    "### Bengali Analogy:\n",
    "দুই ছাত্রের নামের তালিকার কলাম সংখ্যা না মেললে, তালিকা মেলানো যাবে না।"
   ]
  },
  {
   "cell_type": "markdown",
   "id": "ab09ea67",
   "metadata": {},
   "source": [
    "## 🔧 3. Vector Dot Product – Length Mismatch"
   ]
  },
  {
   "cell_type": "code",
   "execution_count": 16,
   "id": "507a8cfa",
   "metadata": {},
   "outputs": [
    {
     "ename": "ValueError",
     "evalue": "shapes (3,) and (2,) not aligned: 3 (dim 0) != 2 (dim 0)",
     "output_type": "error",
     "traceback": [
      "\u001b[31m---------------------------------------------------------------------------\u001b[39m",
      "\u001b[31mValueError\u001b[39m                                Traceback (most recent call last)",
      "\u001b[36mCell\u001b[39m\u001b[36m \u001b[39m\u001b[32mIn[16]\u001b[39m\u001b[32m, line 1\u001b[39m\n\u001b[32m----> \u001b[39m\u001b[32m1\u001b[39m \u001b[43mnp\u001b[49m\u001b[43m.\u001b[49m\u001b[43mdot\u001b[49m\u001b[43m(\u001b[49m\u001b[43m[\u001b[49m\u001b[32;43m1\u001b[39;49m\u001b[43m,\u001b[49m\u001b[43m \u001b[49m\u001b[32;43m2\u001b[39;49m\u001b[43m,\u001b[49m\u001b[43m \u001b[49m\u001b[32;43m3\u001b[39;49m\u001b[43m]\u001b[49m\u001b[43m,\u001b[49m\u001b[43m \u001b[49m\u001b[43m[\u001b[49m\u001b[32;43m4\u001b[39;49m\u001b[43m,\u001b[49m\u001b[43m \u001b[49m\u001b[32;43m5\u001b[39;49m\u001b[43m]\u001b[49m\u001b[43m)\u001b[49m  \u001b[38;5;66;03m# ValueError\u001b[39;00m\n",
      "\u001b[31mValueError\u001b[39m: shapes (3,) and (2,) not aligned: 3 (dim 0) != 2 (dim 0)"
     ]
    }
   ],
   "source": [
    "np.dot([1, 2, 3], [4, 5])  # ValueError"
   ]
  },
  {
   "cell_type": "markdown",
   "id": "2f5511aa",
   "metadata": {},
   "source": [
    "### ✅ Fix Option(s):"
   ]
  },
  {
   "cell_type": "code",
   "execution_count": 17,
   "id": "c096ca65",
   "metadata": {},
   "outputs": [
    {
     "name": "stdout",
     "output_type": "stream",
     "text": [
      "14\n"
     ]
    }
   ],
   "source": [
    "b_padded = np.pad([4, 5], (0, 1))\n",
    "print(np.dot([1, 2, 3], b_padded))"
   ]
  },
  {
   "cell_type": "markdown",
   "id": "a0d8d728",
   "metadata": {},
   "source": [
    "### Bengali Analogy:\n",
    "তুমি যদি তিনটা প্রশ্ন করো আর আমি যদি দুটো উত্তর দিই, সব প্রশ্নের উত্তর হবে না।"
   ]
  },
  {
   "cell_type": "markdown",
   "id": "76f004a6",
   "metadata": {},
   "source": [
    "## 🔧 4. Matrix Multiplication – Column ≠ Row"
   ]
  },
  {
   "cell_type": "code",
   "execution_count": 18,
   "id": "08b16656",
   "metadata": {},
   "outputs": [
    {
     "ename": "ValueError",
     "evalue": "shapes (1,2) and (1,2) not aligned: 2 (dim 1) != 1 (dim 0)",
     "output_type": "error",
     "traceback": [
      "\u001b[31m---------------------------------------------------------------------------\u001b[39m",
      "\u001b[31mValueError\u001b[39m                                Traceback (most recent call last)",
      "\u001b[36mCell\u001b[39m\u001b[36m \u001b[39m\u001b[32mIn[18]\u001b[39m\u001b[32m, line 3\u001b[39m\n\u001b[32m      1\u001b[39m A = np.array([[\u001b[32m1\u001b[39m, \u001b[32m2\u001b[39m]])\n\u001b[32m      2\u001b[39m B = np.array([[\u001b[32m3\u001b[39m, \u001b[32m4\u001b[39m]])\n\u001b[32m----> \u001b[39m\u001b[32m3\u001b[39m \u001b[43mnp\u001b[49m\u001b[43m.\u001b[49m\u001b[43mdot\u001b[49m\u001b[43m(\u001b[49m\u001b[43mA\u001b[49m\u001b[43m,\u001b[49m\u001b[43m \u001b[49m\u001b[43mB\u001b[49m\u001b[43m)\u001b[49m  \u001b[38;5;66;03m# ValueError\u001b[39;00m\n",
      "\u001b[31mValueError\u001b[39m: shapes (1,2) and (1,2) not aligned: 2 (dim 1) != 1 (dim 0)"
     ]
    }
   ],
   "source": [
    "A = np.array([[1, 2]])\n",
    "B = np.array([[3, 4]])\n",
    "np.dot(A, B)  # ValueError"
   ]
  },
  {
   "cell_type": "markdown",
   "id": "3e6e8e23",
   "metadata": {},
   "source": [
    "### ✅ Fix Option(s):"
   ]
  },
  {
   "cell_type": "code",
   "execution_count": 19,
   "id": "9b5d1ae9",
   "metadata": {},
   "outputs": [
    {
     "name": "stdout",
     "output_type": "stream",
     "text": [
      "[[11]]\n"
     ]
    }
   ],
   "source": [
    "B = np.array([[3], [4]])\n",
    "print(np.dot(A, B))"
   ]
  },
  {
   "cell_type": "markdown",
   "id": "70c6c298",
   "metadata": {},
   "source": [
    "### Bengali Analogy:\n",
    "প্রশ্নের সংখ্যা ২, কিন্তু উত্তরের সংখ্যা ১ — মিলবে না।"
   ]
  },
  {
   "cell_type": "markdown",
   "id": "0931988d",
   "metadata": {},
   "source": [
    "## 🔧 5. Broadcasting Failures"
   ]
  },
  {
   "cell_type": "code",
   "execution_count": 20,
   "id": "c947ad43",
   "metadata": {},
   "outputs": [
    {
     "ename": "ValueError",
     "evalue": "operands could not be broadcast together with shapes (2,3) (2,) ",
     "output_type": "error",
     "traceback": [
      "\u001b[31m---------------------------------------------------------------------------\u001b[39m",
      "\u001b[31mValueError\u001b[39m                                Traceback (most recent call last)",
      "\u001b[36mCell\u001b[39m\u001b[36m \u001b[39m\u001b[32mIn[20]\u001b[39m\u001b[32m, line 3\u001b[39m\n\u001b[32m      1\u001b[39m A = np.array([[\u001b[32m1\u001b[39m, \u001b[32m2\u001b[39m, \u001b[32m3\u001b[39m], [\u001b[32m4\u001b[39m, \u001b[32m5\u001b[39m, \u001b[32m6\u001b[39m]])\n\u001b[32m      2\u001b[39m B = np.array([\u001b[32m10\u001b[39m, \u001b[32m20\u001b[39m])\n\u001b[32m----> \u001b[39m\u001b[32m3\u001b[39m \u001b[43mA\u001b[49m\u001b[43m \u001b[49m\u001b[43m+\u001b[49m\u001b[43m \u001b[49m\u001b[43mB\u001b[49m  \u001b[38;5;66;03m# ValueError\u001b[39;00m\n",
      "\u001b[31mValueError\u001b[39m: operands could not be broadcast together with shapes (2,3) (2,) "
     ]
    }
   ],
   "source": [
    "A = np.array([[1, 2, 3], [4, 5, 6]])\n",
    "B = np.array([10, 20])\n",
    "A + B  # ValueError"
   ]
  },
  {
   "cell_type": "markdown",
   "id": "673b8446",
   "metadata": {},
   "source": [
    "### ✅ Fix Option(s):"
   ]
  },
  {
   "cell_type": "code",
   "execution_count": 21,
   "id": "de4c5379",
   "metadata": {},
   "outputs": [
    {
     "name": "stdout",
     "output_type": "stream",
     "text": [
      "[[11 22  3]\n",
      " [14 25  6]]\n"
     ]
    }
   ],
   "source": [
    "B_fixed = np.array([[10, 20, 0]])\n",
    "print(A + B_fixed)"
   ]
  },
  {
   "cell_type": "markdown",
   "id": "febcf563",
   "metadata": {},
   "source": [
    "### Bengali Analogy:\n",
    "এক প্রশ্ন যদি সব ছাত্রের জন্য হয়, তাহলে সেটাকে সবার জন্য কপি করা যায়।"
   ]
  }
 ],
 "metadata": {
  "kernelspec": {
   "display_name": ".venv",
   "language": "python",
   "name": "python3"
  },
  "language_info": {
   "codemirror_mode": {
    "name": "ipython",
    "version": 3
   },
   "file_extension": ".py",
   "mimetype": "text/x-python",
   "name": "python",
   "nbconvert_exporter": "python",
   "pygments_lexer": "ipython3",
   "version": "3.13.3"
  }
 },
 "nbformat": 4,
 "nbformat_minor": 5
}
